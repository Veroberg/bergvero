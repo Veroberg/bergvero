{
  "nbformat": 4,
  "nbformat_minor": 0,
  "metadata": {
    "anaconda-cloud": {},
    "kernelspec": {
      "display_name": "Python 3",
      "language": "python",
      "name": "python3"
    },
    "language_info": {
      "codemirror_mode": {
        "name": "ipython",
        "version": 3
      },
      "file_extension": ".py",
      "mimetype": "text/x-python",
      "name": "python",
      "nbconvert_exporter": "python",
      "pygments_lexer": "ipython3",
      "version": "3.6.5"
    },
    "colab": {
      "name": "Cópia de Cópia de Desafio 2.ipynb",
      "provenance": [],
      "include_colab_link": true
    }
  },
  "cells": [
    {
      "cell_type": "markdown",
      "metadata": {
        "id": "view-in-github",
        "colab_type": "text"
      },
      "source": [
        "<a href=\"https://colab.research.google.com/github/Veroberg/bergvero/blob/master/C%C3%B3pia_de_C%C3%B3pia_de_Desafio_2.ipynb\" target=\"_parent\"><img src=\"https://colab.research.google.com/assets/colab-badge.svg\" alt=\"Open In Colab\"/></a>"
      ]
    },
    {
      "cell_type": "markdown",
      "metadata": {
        "id": "q1NCks7Af6JN"
      },
      "source": [
        "### Desafio 2\n",
        "\n",
        "Escreva uma função que recebe um número inteiro de horas e a converte em segundos.\n",
        "\n",
        "Exemplo:\n",
        "\n",
        "convert(5) ➞ 18000\n",
        "\n",
        "convert(3) ➞ 10800\n",
        "\n",
        "convert(2) ➞ 7200"
      ]
    },
    {
      "cell_type": "code",
      "metadata": {
        "id": "JIlLUSAqp6Qx",
        "colab": {
          "base_uri": "https://localhost:8080/"
        },
        "outputId": "d9c70397-aec2-4e3a-d38b-ebff4499925f"
      },
      "source": [
        "from datetime import timedelta\r\n",
        "\r\n",
        "UNITS = {\"s\":\"seconds\", \"m\":\"minutes\", \"h\":\"hours\", \"d\":\"days\", \"w\":\"weeks\"}\r\n",
        "\r\n",
        "def convert_to_seconds(s):\r\n",
        "    count = int(s[:-1])\r\n",
        "    unit = UNITS[ s[-1] ]\r\n",
        "    td = timedelta(**{unit: count})\r\n",
        "    return td.seconds + 60 * 60 * 24 * td.days\r\n",
        "convert_to_seconds(\"13h\")\r\n"
      ],
      "execution_count": null,
      "outputs": [
        {
          "output_type": "execute_result",
          "data": {
            "text/plain": [
              "46800"
            ]
          },
          "metadata": {
            "tags": []
          },
          "execution_count": 11
        }
      ]
    }
  ]
}